{
 "cells": [
  {
   "cell_type": "code",
   "execution_count": 16,
   "id": "02564eb0-bb77-4362-a55d-b5e635f12b2a",
   "metadata": {
    "scrolled": true
   },
   "outputs": [
    {
     "name": "stdout",
     "output_type": "stream",
     "text": [
      "('The Stillery', 'Nashville', 2041)\n",
      "('Desire Oyster Bar', 'New Orleans', 1098)\n",
      "('Cold Spring Tavern', 'Santa Barbara', 1036)\n",
      "(\"Skull's Rainbow Room\", 'Nashville', 755)\n",
      "('The Twisted Tail', 'Philadelphia', 625)\n",
      "('Grand Isle', 'New Orleans', 603)\n",
      "('Maïs Arepas', 'New Orleans', 594)\n",
      "('Federal Donuts', 'Philadelphia', 567)\n",
      "('Crazy Sushi', 'Philadelphia', 564)\n",
      "('Grace Meat + Three', 'St. Louis', 487)\n"
     ]
    }
   ],
   "source": [
    "import psycopg\n",
    "\n",
    "conn = psycopg.connect(\"dbname=yelp_dataset host=localhost\")\n",
    "cur = conn.cursor()\n",
    "\n",
    "query1 = \"\"\"\n",
    "    SELECT b.name AS restaurant_name, b.city, COUNT(r.review_id) AS total_reviews\n",
    "FROM reviews r\n",
    "JOIN businesses b ON r.business_id = b.business_id\n",
    "JOIN users u ON r.user_id = u.user_id\n",
    "WHERE b.categories ILIKE '%Restaurant%'\n",
    "GROUP BY b.name, b.city\n",
    "ORDER BY total_reviews DESC\n",
    "LIMIT 10;\n",
    "\"\"\"\n",
    "cur.execute(query1)\n",
    "results = cur.fetchall()\n",
    "\n",
    "for row in results:\n",
    "    print(row)\n",
    "\n",
    "cur.close()\n",
    "conn.close()\n"
   ]
  },
  {
   "cell_type": "code",
   "execution_count": 14,
   "id": "20a02530-1e09-4577-9c99-affa2c90bb3a",
   "metadata": {},
   "outputs": [
    {
     "name": "stdout",
     "output_type": "stream",
     "text": [
      "('Limit  (cost=13660.80..13660.82 rows=10 width=38) (actual time=210.095..211.442 rows=10 loops=1)',)\n",
      "('  ->  Sort  (cost=13660.80..13669.66 rows=3544 width=38) (actual time=210.094..211.439 rows=10 loops=1)',)\n",
      "('        Sort Key: (count(r.review_id)) DESC',)\n",
      "('        Sort Method: top-N heapsort  Memory: 26kB',)\n",
      "('        ->  Finalize HashAggregate  (cost=13548.77..13584.21 rows=3544 width=38) (actual time=209.589..211.154 rows=923 loops=1)',)\n",
      "('              Group Key: b.name, b.city',)\n",
      "('              Batches: 1  Memory Usage: 241kB',)\n",
      "('              ->  Gather  (cost=12751.37..13495.61 rows=7088 width=38) (actual time=207.491..209.417 rows=2624 loops=1)',)\n",
      "('                    Workers Planned: 2',)\n",
      "('                    Workers Launched: 2',)\n",
      "('                    ->  Partial HashAggregate  (cost=11751.37..11786.81 rows=3544 width=38) (actual time=204.167..204.391 rows=875 loops=3)',)\n",
      "('                          Group Key: b.name, b.city',)\n",
      "('                          Batches: 1  Memory Usage: 241kB',)\n",
      "('                          Worker 0:  Batches: 1  Memory Usage: 241kB',)\n",
      "('                          Worker 1:  Batches: 1  Memory Usage: 241kB',)\n",
      "('                          ->  Parallel Hash Join  (cost=3252.76..11637.54 rows=15177 width=53) (actual time=32.060..153.742 rows=19729 loops=3)',)\n",
      "('                                Hash Cond: ((r.user_id)::text = (u.user_id)::text)',)\n",
      "('                                ->  Hash Join  (cost=363.75..8708.39 rows=15295 width=76) (actual time=18.737..105.862 rows=22593 loops=3)',)\n",
      "('                                      Hash Cond: ((r.business_id)::text = (b.business_id)::text)',)\n",
      "('                                      ->  Parallel Seq Scan on reviews r  (cost=0.00..8234.90 rows=41790 width=69) (actual time=0.063..76.339 rows=33432 loops=3)',)\n",
      "('                                      ->  Hash  (cost=318.00..318.00 rows=3660 width=53) (actual time=18.628..18.629 rows=3430 loops=3)',)\n",
      "('                                            Buckets: 4096  Batches: 1  Memory Usage: 312kB',)\n",
      "('                                            ->  Seq Scan on businesses b  (cost=0.00..318.00 rows=3660 width=53) (actual time=0.079..16.844 rows=3430 loops=3)',)\n",
      "(\"                                                  Filter: (categories ~~* '%Restaurant%'::text)\",)\n",
      "('                                                  Rows Removed by Filter: 6570',)\n",
      "('                                ->  Parallel Hash  (cost=2530.82..2530.82 rows=28655 width=23) (actual time=12.739..12.739 rows=22924 loops=3)',)\n",
      "('                                      Buckets: 131072  Batches: 1  Memory Usage: 4832kB',)\n",
      "('                                      ->  Parallel Index Only Scan using users_pkey on users u  (cost=0.42..2530.82 rows=28655 width=23) (actual time=0.034..4.273 rows=22924 loops=3)',)\n",
      "('                                            Heap Fetches: 0',)\n",
      "('Planning Time: 1.328 ms',)\n",
      "('Execution Time: 211.909 ms',)\n"
     ]
    }
   ],
   "source": [
    "conn = psycopg.connect(\"dbname=yelp_dataset host=localhost\")\n",
    "cur = conn.cursor()\n",
    "\n",
    "query1_analyze = \"\"\"\n",
    "EXPLAIN ANALYZE\n",
    "    SELECT b.name AS restaurant_name, b.city, COUNT(r.review_id) AS total_reviews\n",
    "FROM reviews r\n",
    "JOIN businesses b ON r.business_id = b.business_id\n",
    "JOIN users u ON r.user_id = u.user_id\n",
    "WHERE b.categories ILIKE '%Restaurant%'\n",
    "GROUP BY b.name, b.city\n",
    "ORDER BY total_reviews DESC\n",
    "LIMIT 10;\n",
    "\"\"\"\n",
    "cur.execute(query1_analyze)\n",
    "results = cur.fetchall()\n",
    "\n",
    "for row in results:\n",
    "    print(row)\n",
    "\n",
    "cur.close()\n",
    "conn.close()"
   ]
  },
  {
   "cell_type": "code",
   "execution_count": null,
   "id": "043efd3a-1b8a-4c07-8039-320749bbe6a1",
   "metadata": {},
   "outputs": [],
   "source": []
  }
 ],
 "metadata": {
  "kernelspec": {
   "display_name": "Python 3 (ipykernel)",
   "language": "python",
   "name": "python3"
  },
  "language_info": {
   "codemirror_mode": {
    "name": "ipython",
    "version": 3
   },
   "file_extension": ".py",
   "mimetype": "text/x-python",
   "name": "python",
   "nbconvert_exporter": "python",
   "pygments_lexer": "ipython3",
   "version": "3.11.10"
  }
 },
 "nbformat": 4,
 "nbformat_minor": 5
}
