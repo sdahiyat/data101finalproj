{
 "cells": [
  {
   "cell_type": "code",
   "execution_count": 21,
   "id": "02564eb0-bb77-4362-a55d-b5e635f12b2a",
   "metadata": {
    "scrolled": true
   },
   "outputs": [
    {
     "name": "stdout",
     "output_type": "stream",
     "text": [
      "('Philadelphia', 9343)\n",
      "('New Orleans', 6953)\n",
      "('Nashville', 6902)\n",
      "('Indianapolis', 3974)\n",
      "('Tampa', 3967)\n",
      "('Tucson', 3677)\n",
      "('Saint Louis', 2144)\n",
      "('Santa Barbara', 2098)\n",
      "('Reno', 2081)\n",
      "('Edmonton', 1286)\n"
     ]
    }
   ],
   "source": [
    "import psycopg\n",
    "\n",
    "conn = psycopg.connect(\"dbname=yelp_dataset host=localhost\")\n",
    "cur = conn.cursor()\n",
    "\n",
    "query1 = \"\"\"\n",
    "    SELECT city, COUNT(*) AS total_reviews\n",
    "FROM businesses b\n",
    "JOIN reviews r ON b.business_id = r.business_id\n",
    "WHERE b.categories ILIKE '%Restaurant%'\n",
    "GROUP BY city\n",
    "ORDER BY total_reviews DESC\n",
    "LIMIT 10;\n",
    "\"\"\"\n",
    "cur.execute(query1)\n",
    "results = cur.fetchall()\n",
    "\n",
    "for row in results:\n",
    "    print(row)\n",
    "\n",
    "cur.close()\n",
    "conn.close()\n"
   ]
  },
  {
   "cell_type": "code",
   "execution_count": 22,
   "id": "20a02530-1e09-4577-9c99-affa2c90bb3a",
   "metadata": {},
   "outputs": [
    {
     "name": "stdout",
     "output_type": "stream",
     "text": [
      "('Limit  (cost=9648.14..9648.16 rows=10 width=18) (actual time=70.344..70.349 rows=10 loops=1)',)\n",
      "('  ->  Sort  (cost=9648.14..9649.52 rows=554 width=18) (actual time=70.342..70.345 rows=10 loops=1)',)\n",
      "('        Sort Key: (count(*)) DESC',)\n",
      "('        Sort Method: top-N heapsort  Memory: 26kB',)\n",
      "('        ->  HashAggregate  (cost=9630.63..9636.17 rows=554 width=18) (actual time=70.236..70.272 rows=231 loops=1)',)\n",
      "('              Group Key: b.city',)\n",
      "('              Batches: 1  Memory Usage: 73kB',)\n",
      "('              ->  Hash Join  (cost=363.75..9447.09 rows=36708 width=10) (actual time=13.517..58.673 rows=67780 loops=1)',)\n",
      "('                    Hash Cond: ((r.business_id)::text = (b.business_id)::text)',)\n",
      "('                    ->  Seq Scan on reviews r  (cost=0.00..8819.95 rows=100295 width=23) (actual time=0.054..24.836 rows=100295 loops=1)',)\n",
      "('                    ->  Hash  (cost=318.00..318.00 rows=3660 width=33) (actual time=13.421..13.422 rows=3430 loops=1)',)\n",
      "('                          Buckets: 4096  Batches: 1  Memory Usage: 252kB',)\n",
      "('                          ->  Seq Scan on businesses b  (cost=0.00..318.00 rows=3660 width=33) (actual time=0.015..12.653 rows=3430 loops=1)',)\n",
      "(\"                                Filter: (categories ~~* '%Restaurant%'::text)\",)\n",
      "('                                Rows Removed by Filter: 6570',)\n",
      "('Planning Time: 1.146 ms',)\n",
      "('Execution Time: 70.453 ms',)\n"
     ]
    }
   ],
   "source": [
    "conn = psycopg.connect(\"dbname=yelp_dataset host=localhost\")\n",
    "cur = conn.cursor()\n",
    "\n",
    "query1_analyze = \"\"\"\n",
    "EXPLAIN ANALYZE\n",
    "    SELECT city, COUNT(*) AS total_reviews\n",
    "FROM businesses b\n",
    "JOIN reviews r ON b.business_id = r.business_id\n",
    "WHERE b.categories ILIKE '%Restaurant%'\n",
    "GROUP BY city\n",
    "ORDER BY total_reviews DESC\n",
    "LIMIT 10;\n",
    "\"\"\"\n",
    "cur.execute(query1_analyze)\n",
    "results = cur.fetchall()\n",
    "\n",
    "for row in results:\n",
    "    print(row)\n",
    "\n",
    "cur.close()\n",
    "conn.close()"
   ]
  },
  {
   "cell_type": "code",
   "execution_count": null,
   "id": "043efd3a-1b8a-4c07-8039-320749bbe6a1",
   "metadata": {},
   "outputs": [],
   "source": []
  }
 ],
 "metadata": {
  "kernelspec": {
   "display_name": "Python 3 (ipykernel)",
   "language": "python",
   "name": "python3"
  },
  "language_info": {
   "codemirror_mode": {
    "name": "ipython",
    "version": 3
   },
   "file_extension": ".py",
   "mimetype": "text/x-python",
   "name": "python",
   "nbconvert_exporter": "python",
   "pygments_lexer": "ipython3",
   "version": "3.11.10"
  }
 },
 "nbformat": 4,
 "nbformat_minor": 5
}
